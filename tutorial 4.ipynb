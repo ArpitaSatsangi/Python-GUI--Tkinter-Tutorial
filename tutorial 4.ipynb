{
 "cells": [
  {
   "cell_type": "code",
   "execution_count": 1,
   "metadata": {},
   "outputs": [],
   "source": [
    "from tkinter import *\n",
    "\n",
    "root = Tk()"
   ]
  },
  {
   "cell_type": "code",
   "execution_count": 2,
   "metadata": {},
   "outputs": [
    {
     "data": {
      "text/plain": [
       "''"
      ]
     },
     "execution_count": 2,
     "metadata": {},
     "output_type": "execute_result"
    }
   ],
   "source": [
    "root.geometry(\"934x234\")\n",
    "\n",
    "root.title(\"GUI - BLACK HOLE\")"
   ]
  },
  {
   "cell_type": "code",
   "execution_count": 3,
   "metadata": {},
   "outputs": [],
   "source": [
    "# Important Label Options\n",
    "# text - adds the text\n",
    "# bd - background\n",
    "# fg - foreground\n",
    "# font - sets the font\n",
    "# 1. font=(\"comicsansms\", 19, \"bold\")\n",
    "# 2. font=\"comicsansms 19 bold\"\n",
    "\n",
    "# padx - x padding\n",
    "# pady - y padding\n",
    "# relief - border styling - SUNKEN, RAISED, GROOVE, RIDGE\n",
    "\n",
    "\n",
    "\n",
    "title_label = Label(text = '''A black hole is a region of spacetime where gravity is so strong that nothing, \n",
    "\\nincluding light or other electromagnetic waves, has enough energy to escape it.\n",
    "\\nThe theory of general relativity predicts that a sufficiently compact mass can deform spacetime to form a black hole.\n",
    "\\nThe boundary of no escape is called the event horizon. \n",
    "\\nAlthough it has a great effect on the fate and circumstances of an object crossing it, \n",
    "\\nit has no locally detectable features according to general relativity.''',\n",
    "                    \n",
    "                   bg= \"red\", fg=\"blue\", font= \"comicsansms 10 bold\",\n",
    "                    padx= 23, pady=19,borderwidth=23, relief=SUNKEN\n",
    "                    \n",
    "                   )"
   ]
  },
  {
   "cell_type": "code",
   "execution_count": 4,
   "metadata": {},
   "outputs": [],
   "source": [
    "# Important Pack options\n",
    "# anchor = nw\n",
    "# side = top, bottom, left, right\n",
    "# fill\n",
    "# padx\n",
    "# pady\n",
    "\n",
    "\n",
    "\n",
    "\n",
    "\n",
    "#title_label.pack(anchor= 'sw') #default is side=TOP\n",
    "\n",
    "#title_label.pack(side= BOTTOM, anchor= 'sw', padx=13, pady=8)\n",
    "title_label.pack(side=LEFT, fill=Y, padx=13, pady=8)"
   ]
  },
  {
   "cell_type": "code",
   "execution_count": 5,
   "metadata": {},
   "outputs": [],
   "source": [
    "root.mainloop()"
   ]
  },
  {
   "cell_type": "code",
   "execution_count": null,
   "metadata": {},
   "outputs": [],
   "source": []
  }
 ],
 "metadata": {
  "kernelspec": {
   "display_name": "Python 3",
   "language": "python",
   "name": "python3"
  },
  "language_info": {
   "codemirror_mode": {
    "name": "ipython",
    "version": 3
   },
   "file_extension": ".py",
   "mimetype": "text/x-python",
   "name": "python",
   "nbconvert_exporter": "python",
   "pygments_lexer": "ipython3",
   "version": "3.8.3"
  }
 },
 "nbformat": 4,
 "nbformat_minor": 4
}
